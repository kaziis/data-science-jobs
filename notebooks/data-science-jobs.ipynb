{
 "cells": [
  {
   "cell_type": "markdown",
   "metadata": {},
   "source": [
    "# Project Overview\n",
    "\n",
    "Data science is a popular career nowadays. So why not understand the role better? \n",
    "\n",
    "With the power of ML and powerful Python libaries we take a deep dive into understanding a lot of our questions."
   ]
  },
  {
   "cell_type": "markdown",
   "metadata": {},
   "source": [
    "# Libaries"
   ]
  },
  {
   "cell_type": "code",
   "execution_count": null,
   "metadata": {},
   "outputs": [],
   "source": [
    "import pandas as pd\n",
    "import seaborn as sn\n",
    "from matplotlib import pyplot as plt\n",
    "pd.options.mode.chained_assignment = None"
   ]
  },
  {
   "cell_type": "markdown",
   "metadata": {},
   "source": [
    "# Import Data"
   ]
  },
  {
   "cell_type": "code",
   "execution_count": null,
   "metadata": {},
   "outputs": [],
   "source": [
    "jobs_df = pd.read_csv(r'C:\\Users\\kazir\\OneDrive\\Desktop\\Github\\Data_Science\\DS_JOBS\\CSVs\\DS_jobs_03182023.csv')"
   ]
  },
  {
   "cell_type": "markdown",
   "metadata": {},
   "source": [
    "# Data Exploration"
   ]
  },
  {
   "cell_type": "code",
   "execution_count": null,
   "metadata": {},
   "outputs": [],
   "source": [
    "jobs_df.head(3)"
   ]
  },
  {
   "cell_type": "code",
   "execution_count": null,
   "metadata": {},
   "outputs": [],
   "source": [
    "jobs_df.isnull().sum()"
   ]
  },
  {
   "cell_type": "code",
   "execution_count": null,
   "metadata": {},
   "outputs": [],
   "source": [
    "jobs_df.columns"
   ]
  },
  {
   "cell_type": "code",
   "execution_count": null,
   "metadata": {},
   "outputs": [],
   "source": [
    "jobs_df['company_perks'].value_counts()"
   ]
  },
  {
   "cell_type": "code",
   "execution_count": null,
   "metadata": {},
   "outputs": [],
   "source": [
    "jobs_df['hybrid'].value_counts()"
   ]
  },
  {
   "cell_type": "markdown",
   "metadata": {},
   "source": [
    "## Data Cleaning"
   ]
  },
  {
   "cell_type": "markdown",
   "metadata": {},
   "source": [
    "### Drop Columns"
   ]
  },
  {
   "cell_type": "code",
   "execution_count": null,
   "metadata": {},
   "outputs": [],
   "source": [
    "jobs_df[['id', 'company_id']][:2]"
   ]
  },
  {
   "cell_type": "code",
   "execution_count": null,
   "metadata": {},
   "outputs": [],
   "source": [
    "columns = [column for column in jobs_df.columns if len(jobs_df[column].value_counts())<=1]\n",
    "columns.append('id')\n",
    "jobs_df.drop(columns=columns, inplace=True)"
   ]
  },
  {
   "cell_type": "code",
   "execution_count": null,
   "metadata": {},
   "outputs": [],
   "source": [
    "jobs_df.head(2)"
   ]
  },
  {
   "cell_type": "code",
   "execution_count": null,
   "metadata": {},
   "outputs": [],
   "source": [
    "jobs_df.columns"
   ]
  },
  {
   "cell_type": "markdown",
   "metadata": {},
   "source": [
    "### Updated DataFrame"
   ]
  },
  {
   "cell_type": "code",
   "execution_count": null,
   "metadata": {},
   "outputs": [],
   "source": [
    "jobs_df_updated = jobs_df[['job_title', 'company_id', 'title', 'locations', 'body', 'company_size' ,'experience_level',\n",
    "                        'job_id', 'location','original_location', 'salary_max', 'salary_min', 'salary_single_value',\n",
    "                        'sort_job', 'working_option']]"
   ]
  },
  {
   "cell_type": "code",
   "execution_count": null,
   "metadata": {},
   "outputs": [],
   "source": [
    "jobs_df_updated.head(5)"
   ]
  },
  {
   "cell_type": "markdown",
   "metadata": {},
   "source": [
    "### Dropping Duplicates\n",
    "\n",
    "We do not want the same jobs in our data being repeated."
   ]
  },
  {
   "cell_type": "code",
   "execution_count": null,
   "metadata": {},
   "outputs": [],
   "source": [
    "jobs_df[jobs_df['job_id'].duplicated()]['job_id']"
   ]
  },
  {
   "cell_type": "code",
   "execution_count": null,
   "metadata": {},
   "outputs": [],
   "source": [
    "jobs_df[jobs_df.job_id==2644317]"
   ]
  },
  {
   "cell_type": "code",
   "execution_count": 62,
   "metadata": {},
   "outputs": [
    {
     "data": {
      "text/html": [
       "<div>\n",
       "<style scoped>\n",
       "    .dataframe tbody tr th:only-of-type {\n",
       "        vertical-align: middle;\n",
       "    }\n",
       "\n",
       "    .dataframe tbody tr th {\n",
       "        vertical-align: top;\n",
       "    }\n",
       "\n",
       "    .dataframe thead th {\n",
       "        text-align: right;\n",
       "    }\n",
       "</style>\n",
       "<table border=\"1\" class=\"dataframe\">\n",
       "  <thead>\n",
       "    <tr style=\"text-align: right;\">\n",
       "      <th></th>\n",
       "      <th>alias</th>\n",
       "      <th>elite</th>\n",
       "      <th>high_volume_poster</th>\n",
       "      <th>limited_listing</th>\n",
       "      <th>locations</th>\n",
       "      <th>premium</th>\n",
       "      <th>title</th>\n",
       "      <th>total_employees</th>\n",
       "      <th>job_alias</th>\n",
       "      <th>body</th>\n",
       "      <th>...</th>\n",
       "      <th>original_location</th>\n",
       "      <th>remote</th>\n",
       "      <th>remote_status</th>\n",
       "      <th>salary_max</th>\n",
       "      <th>salary_min</th>\n",
       "      <th>salary_single_value</th>\n",
       "      <th>sort_job</th>\n",
       "      <th>targeted_remote_locations</th>\n",
       "      <th>job_title</th>\n",
       "      <th>working_option</th>\n",
       "    </tr>\n",
       "  </thead>\n",
       "  <tbody>\n",
       "    <tr>\n",
       "      <th>0</th>\n",
       "      <td>/company/warner-bros-discovery</td>\n",
       "      <td>True</td>\n",
       "      <td>True</td>\n",
       "      <td>False</td>\n",
       "      <td>['Chicago', 'Colorado', 'Los Angeles', 'Austin...</td>\n",
       "      <td>False</td>\n",
       "      <td>Warner Bros. Discovery</td>\n",
       "      <td>0</td>\n",
       "      <td>/job/data/sr-data-engineer/1656826</td>\n",
       "      <td>Every great story has a new beginning, and you...</td>\n",
       "      <td>...</td>\n",
       "      <td>SEATTLE</td>\n",
       "      <td>NOT_REMOTE</td>\n",
       "      <td>NOT_REMOTE</td>\n",
       "      <td>182013.0</td>\n",
       "      <td>98007.0</td>\n",
       "      <td>0.0</td>\n",
       "      <td>2023-03-17 23:39:40</td>\n",
       "      <td>NaN</td>\n",
       "      <td>Sr. Data Engineer</td>\n",
       "      <td>['IN-OFFICE']</td>\n",
       "    </tr>\n",
       "    <tr>\n",
       "      <th>1</th>\n",
       "      <td>/company/dish</td>\n",
       "      <td>True</td>\n",
       "      <td>False</td>\n",
       "      <td>False</td>\n",
       "      <td>NaN</td>\n",
       "      <td>False</td>\n",
       "      <td>DISH</td>\n",
       "      <td>14500</td>\n",
       "      <td>/job/data/sr-data-engineer/1656827</td>\n",
       "      <td>Every great story has a new beginning, and you...</td>\n",
       "      <td>...</td>\n",
       "      <td>SEATTLE</td>\n",
       "      <td>NOT_REMOTE</td>\n",
       "      <td>NOT_REMOTE</td>\n",
       "      <td>182013.0</td>\n",
       "      <td>98007.0</td>\n",
       "      <td>0.0</td>\n",
       "      <td>2023-03-17 23:39:42</td>\n",
       "      <td>NaN</td>\n",
       "      <td>Sr. Data Engineer</td>\n",
       "      <td>['IN-OFFICE']</td>\n",
       "    </tr>\n",
       "    <tr>\n",
       "      <th>2</th>\n",
       "      <td>/company/chewy</td>\n",
       "      <td>True</td>\n",
       "      <td>True</td>\n",
       "      <td>False</td>\n",
       "      <td>['Austin', 'Boston', 'Seattle', 'Baltimore', '...</td>\n",
       "      <td>False</td>\n",
       "      <td>Chewy</td>\n",
       "      <td>20000</td>\n",
       "      <td>/job/data/business-intelligence-engineer/1630873</td>\n",
       "      <td>Our Opportunity:Chewy is looking for a Busines...</td>\n",
       "      <td>...</td>\n",
       "      <td>Boston, MA</td>\n",
       "      <td>NOT_REMOTE</td>\n",
       "      <td>NOT_REMOTE</td>\n",
       "      <td>0.0</td>\n",
       "      <td>0.0</td>\n",
       "      <td>0.0</td>\n",
       "      <td>2023-03-18 05:56:18</td>\n",
       "      <td>NaN</td>\n",
       "      <td>Business Intelligence Engineer</td>\n",
       "      <td>['IN-OFFICE']</td>\n",
       "    </tr>\n",
       "  </tbody>\n",
       "</table>\n",
       "<p>3 rows × 29 columns</p>\n",
       "</div>"
      ],
      "text/plain": [
       "                            alias  elite  high_volume_poster  limited_listing  \\\n",
       "0  /company/warner-bros-discovery   True                True            False   \n",
       "1                   /company/dish   True               False            False   \n",
       "2                  /company/chewy   True                True            False   \n",
       "\n",
       "                                           locations  premium  \\\n",
       "0  ['Chicago', 'Colorado', 'Los Angeles', 'Austin...    False   \n",
       "1                                                NaN    False   \n",
       "2  ['Austin', 'Boston', 'Seattle', 'Baltimore', '...    False   \n",
       "\n",
       "                    title  total_employees  \\\n",
       "0  Warner Bros. Discovery                0   \n",
       "1                    DISH            14500   \n",
       "2                   Chewy            20000   \n",
       "\n",
       "                                          job_alias  \\\n",
       "0                /job/data/sr-data-engineer/1656826   \n",
       "1                /job/data/sr-data-engineer/1656827   \n",
       "2  /job/data/business-intelligence-engineer/1630873   \n",
       "\n",
       "                                                body  ...  original_location  \\\n",
       "0  Every great story has a new beginning, and you...  ...            SEATTLE   \n",
       "1  Every great story has a new beginning, and you...  ...            SEATTLE   \n",
       "2  Our Opportunity:Chewy is looking for a Busines...  ...         Boston, MA   \n",
       "\n",
       "       remote  remote_status salary_max salary_min  salary_single_value  \\\n",
       "0  NOT_REMOTE     NOT_REMOTE   182013.0    98007.0                  0.0   \n",
       "1  NOT_REMOTE     NOT_REMOTE   182013.0    98007.0                  0.0   \n",
       "2  NOT_REMOTE     NOT_REMOTE        0.0        0.0                  0.0   \n",
       "\n",
       "              sort_job targeted_remote_locations  \\\n",
       "0  2023-03-17 23:39:40                       NaN   \n",
       "1  2023-03-17 23:39:42                       NaN   \n",
       "2  2023-03-18 05:56:18                       NaN   \n",
       "\n",
       "                        job_title working_option  \n",
       "0               Sr. Data Engineer  ['IN-OFFICE']  \n",
       "1               Sr. Data Engineer  ['IN-OFFICE']  \n",
       "2  Business Intelligence Engineer  ['IN-OFFICE']  \n",
       "\n",
       "[3 rows x 29 columns]"
      ]
     },
     "execution_count": 62,
     "metadata": {},
     "output_type": "execute_result"
    }
   ],
   "source": [
    "jobs_df.drop_duplicates(inplace=True)\n",
    "jobs_df.reset_index(drop=True, inplace=True)\n",
    "jobs_df.head(3)"
   ]
  },
  {
   "cell_type": "markdown",
   "metadata": {},
   "source": [
    "# Data Information\n",
    "\n",
    "1. Which company has the most Data Science jobs open?\n",
    "2. Which location offers the most Data Science job?\n",
    "3. What is the minimum and maximum pay of a Data Science role from the given data?"
   ]
  },
  {
   "cell_type": "code",
   "execution_count": 63,
   "metadata": {},
   "outputs": [
    {
     "data": {
      "text/plain": [
       "Capital One               188\n",
       "JPMorgan Chase            137\n",
       "Chewy                      79\n",
       "City National Bank         59\n",
       "Warner Bros. Discovery     52\n",
       "Name: title, dtype: int64"
      ]
     },
     "execution_count": 63,
     "metadata": {},
     "output_type": "execute_result"
    }
   ],
   "source": [
    "jobs_df_updated['title'].value_counts()[:5]"
   ]
  },
  {
   "cell_type": "code",
   "execution_count": 64,
   "metadata": {},
   "outputs": [
    {
     "data": {
      "text/plain": [
       "Remote               1364\n",
       "New York City, NY     653\n",
       "Other US Location     572\n",
       "Chicago, IL           415\n",
       "Washington DC         366\n",
       "Name: location, dtype: int64"
      ]
     },
     "execution_count": 64,
     "metadata": {},
     "output_type": "execute_result"
    }
   ],
   "source": [
    "jobs_df_updated['location'].value_counts()[:5]"
   ]
  },
  {
   "cell_type": "code",
   "execution_count": 65,
   "metadata": {},
   "outputs": [
    {
     "name": "stdout",
     "output_type": "stream",
     "text": [
      "The minimum pay in the data is $0.0\n",
      "The max pay in the data is $456000.0\n"
     ]
    }
   ],
   "source": [
    "print (f\"The minimum pay in the data is ${jobs_df_updated['salary_min'].min()}\")\n",
    "print (f\"The max pay in the data is ${jobs_df_updated['salary_max'].max()}\")"
   ]
  },
  {
   "cell_type": "code",
   "execution_count": 66,
   "metadata": {},
   "outputs": [
    {
     "data": {
      "image/png": "[encoded data removed]",
      "text/plain": [
       "<Figure size 2000x1000 with 1 Axes>"
      ]
     },
     "metadata": {},
     "output_type": "display_data"
    }
   ],
   "source": [
    "avaliable_jobs = pd.DataFrame(jobs_df_updated['title'].value_counts()[:15])\n",
    "avaliable_jobs.rename(columns={\"title\":\"count\"}, inplace=True)\n",
    "\n",
    "# Creating a bar graph\n",
    "plt.figure(figsize=(20, 10))\n",
    "avaliable_jobs['count'].plot(kind='barh', color='skyblue', fontsize=15)\n",
    "plt.title('Top 15 Avaliable Data Science Jobs', fontsize=20)\n",
    "plt.xlabel('Number of Jobs', fontsize=15)\n",
    "plt.show()"
   ]
  },
  {
   "cell_type": "markdown",
   "metadata": {},
   "source": [
    "# Sentiment Score\n",
    "\n",
    "Understanding the sentiment score of each job description using NLTK"
   ]
  },
  {
   "cell_type": "code",
   "execution_count": 67,
   "metadata": {},
   "outputs": [],
   "source": [
    "from nltk.sentiment import SentimentIntensityAnalyzer\n",
    "sia = SentimentIntensityAnalyzer()"
   ]
  },
  {
   "cell_type": "code",
   "execution_count": 68,
   "metadata": {},
   "outputs": [],
   "source": [
    "job_information = jobs_df[['company_id','job_id', 'title', 'job_title', 'body']]\n",
    "def polarity_scores(data):\n",
    "    scores = sia.polarity_scores(data)\n",
    "    return scores\n",
    "\n",
    "scores = job_information['body'].apply(polarity_scores)\n",
    "sentiment_df = pd.DataFrame.from_records(scores)"
   ]
  },
  {
   "cell_type": "code",
   "execution_count": 69,
   "metadata": {},
   "outputs": [],
   "source": [
    "sentiment_df.reset_index().rename(columns={\"index\":\"id\"}, inplace=True)\n",
    "sentiment_df = sentiment_df.join(job_information)"
   ]
  },
  {
   "cell_type": "code",
   "execution_count": 70,
   "metadata": {},
   "outputs": [
    {
     "data": {
      "text/html": [
       "<div>\n",
       "<style scoped>\n",
       "    .dataframe tbody tr th:only-of-type {\n",
       "        vertical-align: middle;\n",
       "    }\n",
       "\n",
       "    .dataframe tbody tr th {\n",
       "        vertical-align: top;\n",
       "    }\n",
       "\n",
       "    .dataframe thead th {\n",
       "        text-align: right;\n",
       "    }\n",
       "</style>\n",
       "<table border=\"1\" class=\"dataframe\">\n",
       "  <thead>\n",
       "    <tr style=\"text-align: right;\">\n",
       "      <th></th>\n",
       "      <th>neg</th>\n",
       "      <th>neu</th>\n",
       "      <th>pos</th>\n",
       "      <th>compound</th>\n",
       "      <th>company_id</th>\n",
       "      <th>job_id</th>\n",
       "      <th>title</th>\n",
       "      <th>job_title</th>\n",
       "      <th>body</th>\n",
       "    </tr>\n",
       "  </thead>\n",
       "  <tbody>\n",
       "    <tr>\n",
       "      <th>326</th>\n",
       "      <td>0.068</td>\n",
       "      <td>0.849</td>\n",
       "      <td>0.084</td>\n",
       "      <td>-0.0314</td>\n",
       "      <td>63878</td>\n",
       "      <td>1720867</td>\n",
       "      <td>GRAIL</td>\n",
       "      <td>Bioinformatics Scientist (Multiomics Research)...</td>\n",
       "      <td>GRAIL is a healthcare company whose mission is...</td>\n",
       "    </tr>\n",
       "    <tr>\n",
       "      <th>2161</th>\n",
       "      <td>0.086</td>\n",
       "      <td>0.839</td>\n",
       "      <td>0.076</td>\n",
       "      <td>-0.0772</td>\n",
       "      <td>84752</td>\n",
       "      <td>2354838</td>\n",
       "      <td>VyStar Credit Union</td>\n",
       "      <td>Senior Enterprise Risk Management Analyst</td>\n",
       "      <td>At VyStar, we offer competitive pay, an excell...</td>\n",
       "    </tr>\n",
       "    <tr>\n",
       "      <th>2907</th>\n",
       "      <td>0.087</td>\n",
       "      <td>0.849</td>\n",
       "      <td>0.065</td>\n",
       "      <td>-0.8939</td>\n",
       "      <td>84036</td>\n",
       "      <td>1947538</td>\n",
       "      <td>Hancock Whitney</td>\n",
       "      <td>BSA Analyst</td>\n",
       "      <td>Thank you for your interest in our company! To...</td>\n",
       "    </tr>\n",
       "    <tr>\n",
       "      <th>2909</th>\n",
       "      <td>0.079</td>\n",
       "      <td>0.855</td>\n",
       "      <td>0.066</td>\n",
       "      <td>-0.6731</td>\n",
       "      <td>84036</td>\n",
       "      <td>1989401</td>\n",
       "      <td>Hancock Whitney</td>\n",
       "      <td>BSA Analyst</td>\n",
       "      <td>Thank you for your interest in our company! To...</td>\n",
       "    </tr>\n",
       "    <tr>\n",
       "      <th>3893</th>\n",
       "      <td>0.148</td>\n",
       "      <td>0.730</td>\n",
       "      <td>0.122</td>\n",
       "      <td>-0.6908</td>\n",
       "      <td>84977</td>\n",
       "      <td>2628757</td>\n",
       "      <td>First Citizens Bank</td>\n",
       "      <td>First Line Risk Analyst, Treasury -Balance She...</td>\n",
       "      <td>Overview   This position is responsible for as...</td>\n",
       "    </tr>\n",
       "  </tbody>\n",
       "</table>\n",
       "</div>"
      ],
      "text/plain": [
       "        neg    neu    pos  compound  company_id   job_id                title  \\\n",
       "326   0.068  0.849  0.084   -0.0314       63878  1720867                GRAIL   \n",
       "2161  0.086  0.839  0.076   -0.0772       84752  2354838  VyStar Credit Union   \n",
       "2907  0.087  0.849  0.065   -0.8939       84036  1947538      Hancock Whitney   \n",
       "2909  0.079  0.855  0.066   -0.6731       84036  1989401      Hancock Whitney   \n",
       "3893  0.148  0.730  0.122   -0.6908       84977  2628757  First Citizens Bank   \n",
       "\n",
       "                                              job_title  \\\n",
       "326   Bioinformatics Scientist (Multiomics Research)...   \n",
       "2161          Senior Enterprise Risk Management Analyst   \n",
       "2907                                        BSA Analyst   \n",
       "2909                                        BSA Analyst   \n",
       "3893  First Line Risk Analyst, Treasury -Balance She...   \n",
       "\n",
       "                                                   body  \n",
       "326   GRAIL is a healthcare company whose mission is...  \n",
       "2161  At VyStar, we offer competitive pay, an excell...  \n",
       "2907  Thank you for your interest in our company! To...  \n",
       "2909  Thank you for your interest in our company! To...  \n",
       "3893  Overview   This position is responsible for as...  "
      ]
     },
     "execution_count": 70,
     "metadata": {},
     "output_type": "execute_result"
    }
   ],
   "source": [
    "sentiment_df.query(\"compound < 0\")"
   ]
  },
  {
   "cell_type": "markdown",
   "metadata": {},
   "source": [
    "# Text Mining\n",
    "We want to understand the skills a lot of the companies look for in a Data Scientist, and how some of the jobs are related to one another based on their descriptions."
   ]
  },
  {
   "cell_type": "markdown",
   "metadata": {},
   "source": [
    "## Importing Libaries for Text Mining"
   ]
  },
  {
   "cell_type": "code",
   "execution_count": 71,
   "metadata": {},
   "outputs": [],
   "source": [
    "import nltk\n",
    "import re\n",
    "import string\n",
    "from sklearn.feature_extraction.text import CountVectorizer\n",
    "from sklearn.feature_extraction.text import TfidfVectorizer"
   ]
  },
  {
   "cell_type": "code",
   "execution_count": 72,
   "metadata": {},
   "outputs": [
    {
     "data": {
      "text/plain": [
       "Index(['alias', 'elite', 'high_volume_poster', 'limited_listing', 'locations',\n",
       "       'premium', 'title', 'total_employees', 'job_alias', 'body',\n",
       "       'company_id', 'company_size', 'easy_apply', 'experience_level',\n",
       "       'how_to_apply', 'hybrid', 'job_id', 'industry_id', 'location',\n",
       "       'original_location', 'remote', 'remote_status', 'salary_max',\n",
       "       'salary_min', 'salary_single_value', 'sort_job',\n",
       "       'targeted_remote_locations', 'job_title', 'working_option'],\n",
       "      dtype='object')"
      ]
     },
     "execution_count": 72,
     "metadata": {},
     "output_type": "execute_result"
    }
   ],
   "source": [
    "jobs_df.columns"
   ]
  },
  {
   "cell_type": "code",
   "execution_count": 73,
   "metadata": {},
   "outputs": [
    {
     "data": {
      "text/html": [
       "<div>\n",
       "<style scoped>\n",
       "    .dataframe tbody tr th:only-of-type {\n",
       "        vertical-align: middle;\n",
       "    }\n",
       "\n",
       "    .dataframe tbody tr th {\n",
       "        vertical-align: top;\n",
       "    }\n",
       "\n",
       "    .dataframe thead th {\n",
       "        text-align: right;\n",
       "    }\n",
       "</style>\n",
       "<table border=\"1\" class=\"dataframe\">\n",
       "  <thead>\n",
       "    <tr style=\"text-align: right;\">\n",
       "      <th></th>\n",
       "      <th>company_id</th>\n",
       "      <th>job_id</th>\n",
       "      <th>title</th>\n",
       "      <th>job_title</th>\n",
       "      <th>body</th>\n",
       "    </tr>\n",
       "  </thead>\n",
       "  <tbody>\n",
       "    <tr>\n",
       "      <th>0</th>\n",
       "      <td>64944</td>\n",
       "      <td>2675580</td>\n",
       "      <td>Warner Bros. Discovery</td>\n",
       "      <td>Sr. Data Engineer</td>\n",
       "      <td>Every great story has a new beginning, and you...</td>\n",
       "    </tr>\n",
       "    <tr>\n",
       "      <th>1</th>\n",
       "      <td>64944</td>\n",
       "      <td>2675581</td>\n",
       "      <td>DISH</td>\n",
       "      <td>Sr. Data Engineer</td>\n",
       "      <td>Every great story has a new beginning, and you...</td>\n",
       "    </tr>\n",
       "    <tr>\n",
       "      <th>2</th>\n",
       "      <td>64894</td>\n",
       "      <td>2644318</td>\n",
       "      <td>Chewy</td>\n",
       "      <td>Business Intelligence Engineer</td>\n",
       "      <td>Our Opportunity:Chewy is looking for a Busines...</td>\n",
       "    </tr>\n",
       "    <tr>\n",
       "      <th>3</th>\n",
       "      <td>64453</td>\n",
       "      <td>2677947</td>\n",
       "      <td>Reddit</td>\n",
       "      <td>Staff Data Scientist, Ads Experimentation Anal...</td>\n",
       "      <td>Reddit is a community of communities where peo...</td>\n",
       "    </tr>\n",
       "    <tr>\n",
       "      <th>4</th>\n",
       "      <td>81846</td>\n",
       "      <td>2715266</td>\n",
       "      <td>Capital One</td>\n",
       "      <td>Senior Data Engineer</td>\n",
       "      <td>Locations: VA - McLean, United States of Ameri...</td>\n",
       "    </tr>\n",
       "  </tbody>\n",
       "</table>\n",
       "</div>"
      ],
      "text/plain": [
       "   company_id   job_id                   title  \\\n",
       "0       64944  2675580  Warner Bros. Discovery   \n",
       "1       64944  2675581                    DISH   \n",
       "2       64894  2644318                   Chewy   \n",
       "3       64453  2677947                  Reddit   \n",
       "4       81846  2715266             Capital One   \n",
       "\n",
       "                                           job_title  \\\n",
       "0                                  Sr. Data Engineer   \n",
       "1                                  Sr. Data Engineer   \n",
       "2                     Business Intelligence Engineer   \n",
       "3  Staff Data Scientist, Ads Experimentation Anal...   \n",
       "4                               Senior Data Engineer   \n",
       "\n",
       "                                                body  \n",
       "0  Every great story has a new beginning, and you...  \n",
       "1  Every great story has a new beginning, and you...  \n",
       "2  Our Opportunity:Chewy is looking for a Busines...  \n",
       "3  Reddit is a community of communities where peo...  \n",
       "4  Locations: VA - McLean, United States of Ameri...  "
      ]
     },
     "execution_count": 73,
     "metadata": {},
     "output_type": "execute_result"
    }
   ],
   "source": [
    "job_information = jobs_df[['company_id','job_id', 'title', 'job_title', 'body']]\n",
    "job_information.head()"
   ]
  },
  {
   "cell_type": "code",
   "execution_count": 74,
   "metadata": {},
   "outputs": [
    {
     "data": {
      "text/plain": [
       "'!\"#$%&\\'()*+,-./:;<=>?@[\\\\]^_`{|}~'"
      ]
     },
     "execution_count": 74,
     "metadata": {},
     "output_type": "execute_result"
    }
   ],
   "source": [
    "string.punctuation"
   ]
  },
  {
   "cell_type": "code",
   "execution_count": 75,
   "metadata": {},
   "outputs": [],
   "source": [
    "snowball_stemer = nltk.SnowballStemmer(language=\"english\")\n",
    "stop_words = nltk.corpus.stopwords.words('English')\n",
    "def cleaning_desc (des):\n",
    "    text = \"\".join([t for t in des if t not in string.punctuation])\n",
    "    text_split = re.split(r'\\W+', text)\n",
    "    text_not_in_stop_words = [t for t in text_split if t not in stop_words]\n",
    "    final_text = [snowball_stemer.stem(word) for word in text_not_in_stop_words]\n",
    "    return final_text"
   ]
  },
  {
   "cell_type": "code",
   "execution_count": 76,
   "metadata": {},
   "outputs": [],
   "source": [
    "job_information['clean_body'] = job_information['body'].apply(cleaning_desc)"
   ]
  },
  {
   "cell_type": "code",
   "execution_count": 77,
   "metadata": {},
   "outputs": [
    {
     "data": {
      "text/html": [
       "<div>\n",
       "<style scoped>\n",
       "    .dataframe tbody tr th:only-of-type {\n",
       "        vertical-align: middle;\n",
       "    }\n",
       "\n",
       "    .dataframe tbody tr th {\n",
       "        vertical-align: top;\n",
       "    }\n",
       "\n",
       "    .dataframe thead th {\n",
       "        text-align: right;\n",
       "    }\n",
       "</style>\n",
       "<table border=\"1\" class=\"dataframe\">\n",
       "  <thead>\n",
       "    <tr style=\"text-align: right;\">\n",
       "      <th></th>\n",
       "      <th>company_id</th>\n",
       "      <th>job_id</th>\n",
       "      <th>title</th>\n",
       "      <th>job_title</th>\n",
       "      <th>body</th>\n",
       "      <th>clean_body</th>\n",
       "    </tr>\n",
       "  </thead>\n",
       "  <tbody>\n",
       "    <tr>\n",
       "      <th>0</th>\n",
       "      <td>64944</td>\n",
       "      <td>2675580</td>\n",
       "      <td>Warner Bros. Discovery</td>\n",
       "      <td>Sr. Data Engineer</td>\n",
       "      <td>Every great story has a new beginning, and you...</td>\n",
       "      <td>[everi, great, stori, new, begin, start, herew...</td>\n",
       "    </tr>\n",
       "    <tr>\n",
       "      <th>1</th>\n",
       "      <td>64944</td>\n",
       "      <td>2675581</td>\n",
       "      <td>DISH</td>\n",
       "      <td>Sr. Data Engineer</td>\n",
       "      <td>Every great story has a new beginning, and you...</td>\n",
       "      <td>[everi, great, stori, new, begin, start, herew...</td>\n",
       "    </tr>\n",
       "    <tr>\n",
       "      <th>2</th>\n",
       "      <td>64894</td>\n",
       "      <td>2644318</td>\n",
       "      <td>Chewy</td>\n",
       "      <td>Business Intelligence Engineer</td>\n",
       "      <td>Our Opportunity:Chewy is looking for a Busines...</td>\n",
       "      <td>[our, opportunitychewi, look, busi, intellig, ...</td>\n",
       "    </tr>\n",
       "    <tr>\n",
       "      <th>3</th>\n",
       "      <td>64453</td>\n",
       "      <td>2677947</td>\n",
       "      <td>Reddit</td>\n",
       "      <td>Staff Data Scientist, Ads Experimentation Anal...</td>\n",
       "      <td>Reddit is a community of communities where peo...</td>\n",
       "      <td>[reddit, communiti, communiti, peopl, dive, an...</td>\n",
       "    </tr>\n",
       "    <tr>\n",
       "      <th>4</th>\n",
       "      <td>81846</td>\n",
       "      <td>2715266</td>\n",
       "      <td>Capital One</td>\n",
       "      <td>Senior Data Engineer</td>\n",
       "      <td>Locations: VA - McLean, United States of Ameri...</td>\n",
       "      <td>[locat, va, mclean, unit, state, america, mcle...</td>\n",
       "    </tr>\n",
       "    <tr>\n",
       "      <th>...</th>\n",
       "      <td>...</td>\n",
       "      <td>...</td>\n",
       "      <td>...</td>\n",
       "      <td>...</td>\n",
       "      <td>...</td>\n",
       "      <td>...</td>\n",
       "    </tr>\n",
       "    <tr>\n",
       "      <th>5691</th>\n",
       "      <td>98020</td>\n",
       "      <td>2412424</td>\n",
       "      <td>DeepScribe</td>\n",
       "      <td>Data Scientist</td>\n",
       "      <td>Our MissionAt DeepScribe, everything we do is ...</td>\n",
       "      <td>[our, missionat, deepscrib, everyth, focus, mi...</td>\n",
       "    </tr>\n",
       "    <tr>\n",
       "      <th>5692</th>\n",
       "      <td>86596</td>\n",
       "      <td>2327537</td>\n",
       "      <td>Icertis</td>\n",
       "      <td>Senior Data Scientist - NLP - Remote</td>\n",
       "      <td>With unmatched technology and category-definin...</td>\n",
       "      <td>[with, unmatch, technolog, categorydefin, inno...</td>\n",
       "    </tr>\n",
       "    <tr>\n",
       "      <th>5693</th>\n",
       "      <td>86596</td>\n",
       "      <td>2327535</td>\n",
       "      <td>Icertis</td>\n",
       "      <td>Principal Data Scientist - NLP - Remote</td>\n",
       "      <td>With unmatched technology and category-definin...</td>\n",
       "      <td>[with, unmatch, technolog, categorydefin, inno...</td>\n",
       "    </tr>\n",
       "    <tr>\n",
       "      <th>5694</th>\n",
       "      <td>89050</td>\n",
       "      <td>2267029</td>\n",
       "      <td>Bottomline Technologies</td>\n",
       "      <td>Matching Specialist</td>\n",
       "      <td>Bottomline is at the forefront of digital tran...</td>\n",
       "      <td>[bottomlin, forefront, digit, transform, we, g...</td>\n",
       "    </tr>\n",
       "    <tr>\n",
       "      <th>5695</th>\n",
       "      <td>70945</td>\n",
       "      <td>2435908</td>\n",
       "      <td>DealerOn</td>\n",
       "      <td>Data Specialist I</td>\n",
       "      <td>Job Description:The Data Support Specialist is...</td>\n",
       "      <td>[job, descriptionth, data, support, specialist...</td>\n",
       "    </tr>\n",
       "  </tbody>\n",
       "</table>\n",
       "<p>5696 rows × 6 columns</p>\n",
       "</div>"
      ],
      "text/plain": [
       "      company_id   job_id                    title  \\\n",
       "0          64944  2675580   Warner Bros. Discovery   \n",
       "1          64944  2675581                     DISH   \n",
       "2          64894  2644318                    Chewy   \n",
       "3          64453  2677947                   Reddit   \n",
       "4          81846  2715266              Capital One   \n",
       "...          ...      ...                      ...   \n",
       "5691       98020  2412424               DeepScribe   \n",
       "5692       86596  2327537                  Icertis   \n",
       "5693       86596  2327535                  Icertis   \n",
       "5694       89050  2267029  Bottomline Technologies   \n",
       "5695       70945  2435908                 DealerOn   \n",
       "\n",
       "                                              job_title  \\\n",
       "0                                     Sr. Data Engineer   \n",
       "1                                     Sr. Data Engineer   \n",
       "2                        Business Intelligence Engineer   \n",
       "3     Staff Data Scientist, Ads Experimentation Anal...   \n",
       "4                                  Senior Data Engineer   \n",
       "...                                                 ...   \n",
       "5691                                     Data Scientist   \n",
       "5692               Senior Data Scientist - NLP - Remote   \n",
       "5693            Principal Data Scientist - NLP - Remote   \n",
       "5694                                Matching Specialist   \n",
       "5695                                  Data Specialist I   \n",
       "\n",
       "                                                   body  \\\n",
       "0     Every great story has a new beginning, and you...   \n",
       "1     Every great story has a new beginning, and you...   \n",
       "2     Our Opportunity:Chewy is looking for a Busines...   \n",
       "3     Reddit is a community of communities where peo...   \n",
       "4     Locations: VA - McLean, United States of Ameri...   \n",
       "...                                                 ...   \n",
       "5691  Our MissionAt DeepScribe, everything we do is ...   \n",
       "5692  With unmatched technology and category-definin...   \n",
       "5693  With unmatched technology and category-definin...   \n",
       "5694  Bottomline is at the forefront of digital tran...   \n",
       "5695  Job Description:The Data Support Specialist is...   \n",
       "\n",
       "                                             clean_body  \n",
       "0     [everi, great, stori, new, begin, start, herew...  \n",
       "1     [everi, great, stori, new, begin, start, herew...  \n",
       "2     [our, opportunitychewi, look, busi, intellig, ...  \n",
       "3     [reddit, communiti, communiti, peopl, dive, an...  \n",
       "4     [locat, va, mclean, unit, state, america, mcle...  \n",
       "...                                                 ...  \n",
       "5691  [our, missionat, deepscrib, everyth, focus, mi...  \n",
       "5692  [with, unmatch, technolog, categorydefin, inno...  \n",
       "5693  [with, unmatch, technolog, categorydefin, inno...  \n",
       "5694  [bottomlin, forefront, digit, transform, we, g...  \n",
       "5695  [job, descriptionth, data, support, specialist...  \n",
       "\n",
       "[5696 rows x 6 columns]"
      ]
     },
     "execution_count": 77,
     "metadata": {},
     "output_type": "execute_result"
    }
   ],
   "source": [
    "job_information"
   ]
  },
  {
   "cell_type": "code",
   "execution_count": 78,
   "metadata": {},
   "outputs": [
    {
     "name": "stdout",
     "output_type": "stream",
     "text": [
      "The length of the first job desc was 6607 and now the length is 615.\n"
     ]
    }
   ],
   "source": [
    "print (\"The length of the first job desc was {} and now the length is {}.\" \\\n",
    "    .format(len(job_information.loc[0]['body']), len(job_information.loc[0]['clean_body'])))"
   ]
  },
  {
   "cell_type": "markdown",
   "metadata": {},
   "source": [
    "## NLTK\n",
    "\n",
    "Using sentdex playlist to transform the job descriptions.\n",
    "\n",
    "NLTK does not do real analysis, it is a toolkit to process text data."
   ]
  },
  {
   "cell_type": "code",
   "execution_count": 79,
   "metadata": {},
   "outputs": [],
   "source": [
    "from nltk.corpus import stopwords\n",
    "from nltk.tokenize import word_tokenize"
   ]
  },
  {
   "cell_type": "code",
   "execution_count": 80,
   "metadata": {},
   "outputs": [
    {
     "data": {
      "text/plain": [
       "'Every great story has a new beginning, and yours starts here.Welcome to Warner Bros. Discovery... the stuff dreams are made of.Who We Are... When we say, \"the stuff dreams are made of,\" we\\'re not just referring to the world of wizards, dragons and superheroes, or even to the wonders of Planet Earth. Behind WBD\\'s vast portfolio of iconic content and beloved brands, are the storytellers bringing our characters to life, the creators bringing them to your living rooms and the dreamers creating what\\'s next...From brilliant creatives, to technology trailblazers, across the globe, WBD offers career defining opportunities, thoughtfully curated benefits, and the tools to explore and grow into your best selves. Here you are supported, here you are celebrated, here you can thrive.Every great story has a new beginning. We\\'re excited to announce that Discovery and WarnerMedia have combined to become Warner Bros. Discovery. WBD is a premier global media and entertainment company offering audiences the world\\'s most differentiated and complete portfolio of content, brands and franchises across television, film, sports, news, streaming and gaming. We\\'re home to the world\\'s best storytellers, creating world-class products for consumers. From brilliant creatives to technology trailblazers and beyond, join us as we step into the next chapter. The JobAs Sr. Data Engineerin the Customer team, you will lead the design, develop, deploy and manage customer AI data products supporting data science and analytic initiatives for D&AI at WBD streaming, regulate and standardize customer data integration, transformation /publication to drive the delivery of governed, tested, documented, and code-reviewed abstraction output through AI platform /microservices to data scientists, MLP, visualization and other self-service platforms. In this role you will interact with different functional areas to understand the analytical and production data requirements about customers, and collaborate with data engineers, data scientists and analysts, and researchers to ensure the proper end-to-end execution and on-going success for the team. This role will bring in both his/her expertise in a wide variety of big data processing frameworks, large scale database systems, stream data processing, API Development, data modeling skills and managing resources to drive the delivery of customer data products, but also the . The DailyEnhance and innovate streaming customer360 data products to the next level on pipeline design, process and publication to serve a variety of stakeholders.Collaborate with data scientists and data engineers with D&AI to define technical requirements and data translation for analytic and ML feature engineering initiatives.Work with solution analysts to understand the business problems and develop best-suited, robust and reusable data science output for customer analyticsEvaluate and facilitate the integration of additional sources of data (3rd party and 2nd party data) that can enhance analytic capability, continually expand the breadth and depth of user base and insightful data attributes.Work closely with Data Product Management, Data Science, and Data Engineering to design and build fast and reliable servicesCreate libraries to enable production customerAI data products as effectively and quickly as possibleEnsure data quality by implementing re-usable data quality frameworks.The EssentialsBachelor\\'s degree in computer science or similar discipline.5+ years of experience in data engineering / software engineering/ machine learning engineering and managing resources and project delivery.Expertise in building and managing large volume data transformation(both streaming and batch) platforms and proficient with SQL.Expertise in distributed data processing frameworks such as Apache Spark, Flink or Similar.Expertise in at least few programming languages - Python, Java, Scala, or similar.Proficiency with Git (or similar version control) and CI/CD best practices and managing workflows using Agile practicesExperience or certification on Databricks at data engineering and/or ML productionWorking with AWS Cloud platformAbility to write clear, concise documentation and to communicate generally with a high degree of precisionCare for the quality of the input data and how the processed data is ultimately interpreted and usedExperience with digital products, streaming services, or subscription products is preferredCharacteristics & TraitsNaturally inquisitive, critical thinker, proactive problem-solver, and detail-oriented.Comfortable initiating projects from design to execution with minimal supervisionAbility to manage and balance multiple (and sometimes competing) priorities in a fast-paced, complex business environment and can manage time effectively to consistently meet deadlineswell-roundedness on analytic methodologies and executionHow We Get Things Done...This last bit is probably the most important! Here at WBD, our guiding principles are the core values by which we operate and are central to how we get things done. You can find them at www.wbd.com/guiding-principles/ along with some insights from the team on what they mean and how they show up in their day to day. We hope they resonate with you and look forward to discussing them during your interview.The Legal Bits...In compliance with local law, we are disclosing the compensation, or a range thereof, for roles in locations where legally required. $98,007.00 - $182,013.00 salary per year. Other rewards may include annual bonuses, short- and long-term incentives, and program-specific awards. In addition, Warner Bros. Discovery provides a variety of benefits to employees, including health insurance coverage, an employee wellness program, life and disability insurance, a retirement savings plan, paid holidays and paid time off (PTO).Warner Bros. Discovery embraces the opportunity to build a workforce that reflects the diversity of our society and the world around us. Being an equal opportunity employer means that we take seriously our responsibility to consider qualified candidates on the basis of merit, without regard to race, color, religion, national origin, gender, sexual orientation, gender identity or expression, age, mental or physical disability, and genetic information, marital status, citizenship status, military status, protected veteran status or any other category protected by law.If you\\'re a qualified candidate with a disability and you need a reasonable accommodation in order to apply for this position, please contact us at recruitadmin@warnermedia.com.'"
      ]
     },
     "execution_count": 80,
     "metadata": {},
     "output_type": "execute_result"
    }
   ],
   "source": [
    "example_text = job_information.loc[0]['body']\n",
    "example_text"
   ]
  },
  {
   "cell_type": "code",
   "execution_count": 81,
   "metadata": {},
   "outputs": [
    {
     "name": "stdout",
     "output_type": "stream",
     "text": [
      "['i', 'me', 'my', 'myself', 'we', 'our', 'ours', 'ourselves', 'you', \"you're\", \"you've\", \"you'll\", \"you'd\", 'your', 'yours', 'yourself', 'yourselves', 'he', 'him', 'his', 'himself', 'she', \"she's\", 'her', 'hers', 'herself', 'it', \"it's\", 'its', 'itself', 'they', 'them', 'their', 'theirs', 'themselves', 'what', 'which', 'who', 'whom', 'this', 'that', \"that'll\", 'these', 'those', 'am', 'is', 'are', 'was', 'were', 'be', 'been', 'being', 'have', 'has', 'had', 'having', 'do', 'does', 'did', 'doing', 'a', 'an', 'the', 'and', 'but', 'if', 'or', 'because', 'as', 'until', 'while', 'of', 'at', 'by', 'for', 'with', 'about', 'against', 'between', 'into', 'through', 'during', 'before', 'after', 'above', 'below', 'to', 'from', 'up', 'down', 'in', 'out', 'on', 'off', 'over', 'under', 'again', 'further', 'then', 'once', 'here', 'there', 'when', 'where', 'why', 'how', 'all', 'any', 'both', 'each', 'few', 'more', 'most', 'other', 'some', 'such', 'no', 'nor', 'not', 'only', 'own', 'same', 'so', 'than', 'too', 'very', 's', 't', 'can', 'will', 'just', 'don', \"don't\", 'should', \"should've\", 'now', 'd', 'll', 'm', 'o', 're', 've', 'y', 'ain', 'aren', \"aren't\", 'couldn', \"couldn't\", 'didn', \"didn't\", 'doesn', \"doesn't\", 'hadn', \"hadn't\", 'hasn', \"hasn't\", 'haven', \"haven't\", 'isn', \"isn't\", 'ma', 'mightn', \"mightn't\", 'mustn', \"mustn't\", 'needn', \"needn't\", 'shan', \"shan't\", 'shouldn', \"shouldn't\", 'wasn', \"wasn't\", 'weren', \"weren't\", 'won', \"won't\", 'wouldn', \"wouldn't\"]\n"
     ]
    }
   ],
   "source": [
    "print (stop_words)"
   ]
  },
  {
   "cell_type": "markdown",
   "metadata": {},
   "source": [
    "### Stop Words"
   ]
  },
  {
   "cell_type": "code",
   "execution_count": 82,
   "metadata": {},
   "outputs": [],
   "source": [
    "# Setting up the cleaning process\n",
    "stop_words = stop_words\n",
    "punc = string.punctuation"
   ]
  },
  {
   "cell_type": "code",
   "execution_count": 83,
   "metadata": {},
   "outputs": [
    {
     "name": "stdout",
     "output_type": "stream",
     "text": [
      "['every', 'great', 'story', 'new', 'beginning', 'starts', 'welcome', 'warner', 'bros', 'discovery', 'stuff', 'dreams', 'made', 'who', 'we', 'are', 'when', 'say', 'stuff', 'dreams', 'made', 'referring', 'world', 'wizards', 'dragons', 'superheroes', 'even', 'wonders', 'planet', 'earth', 'behind', 'wbd', 'vast', 'portfolio', 'iconic', 'content', 'beloved', 'brands', 'storytellers', 'bringing', 'characters', 'life', 'creators', 'bringing', 'living', 'rooms', 'dreamers', 'creating', 'next', 'from', 'brilliant', 'creatives', 'technology', 'trailblazers', 'across', 'globe', 'wbd', 'offers', 'career', 'defining', 'opportunities', 'thoughtfully', 'curated', 'benefits', 'tools', 'explore', 'grow', 'best', 'selves', 'here', 'supported', 'celebrated', 'thrive', 'every', 'great', 'story', 'new', 'beginning', 'we', 'excited', 'announce', 'discovery', 'warnermedia', 'combined', 'become', 'warner', 'bros', 'discovery', 'wbd', 'premier', 'global', 'media', 'entertainment', 'company', 'offering', 'audiences', 'world', 'differentiated', 'complete', 'portfolio', 'content', 'brands', 'franchises', 'across', 'television', 'film', 'sports', 'news', 'streaming', 'gaming', 'we', 'home', 'world', 'best', 'storytellers', 'creating', 'world', 'class', 'products', 'consumers', 'from', 'brilliant', 'creatives', 'technology', 'trailblazers', 'beyond', 'join', 'us', 'step', 'next', 'chapter', 'the', 'jobas', 'sr', 'data', 'engineerin', 'customer', 'team', 'lead', 'design', 'develop', 'deploy', 'manage', 'customer', 'ai', 'data', 'products', 'supporting', 'data', 'science', 'analytic', 'initiatives', 'd', 'ai', 'wbd', 'streaming', 'regulate', 'standardize', 'customer', 'data', 'integration', 'transformation', 'publication', 'drive', 'delivery', 'governed', 'tested', 'documented', 'code', 'reviewed', 'abstraction', 'output', 'ai', 'platform', 'microservices', 'data', 'scientists', 'mlp', 'visualization', 'self', 'service', 'platforms', 'in', 'role', 'interact', 'different', 'functional', 'areas', 'understand', 'analytical', 'production', 'data', 'requirements', 'customers', 'collaborate', 'data', 'engineers', 'data', 'scientists', 'analysts', 'researchers', 'ensure', 'proper', 'end', 'end', 'execution', 'going', 'success', 'team', 'this', 'role', 'bring', 'expertise', 'wide', 'variety', 'big', 'data', 'processing', 'frameworks', 'large', 'scale', 'database', 'systems', 'stream', 'data', 'processing', 'api', 'development', 'data', 'modeling', 'skills', 'managing', 'resources', 'drive', 'delivery', 'customer', 'data', 'products', 'also', 'the', 'dailyenhance', 'innovate', 'streaming', 'customer360', 'data', 'products', 'next', 'level', 'pipeline', 'design', 'process', 'publication', 'serve', 'variety', 'stakeholders', 'collaborate', 'data', 'scientists', 'data', 'engineers', 'd', 'ai', 'define', 'technical', 'requirements', 'data', 'translation', 'analytic', 'ml', 'feature', 'engineering', 'initiatives', 'work', 'solution', 'analysts', 'understand', 'business', 'problems', 'develop', 'best', 'suited', 'robust', 'reusable', 'data', 'science', 'output', 'customer', 'analyticsevaluate', 'facilitate', 'integration', 'additional', 'sources', 'data', '3rd', 'party', '2nd', 'party', 'data', 'enhance', 'analytic', 'capability', 'continually', 'expand', 'breadth', 'depth', 'user', 'base', 'insightful', 'data', 'attributes', 'work', 'closely', 'data', 'product', 'management', 'data', 'science', 'data', 'engineering', 'design', 'build', 'fast', 'reliable', 'servicescreate', 'libraries', 'enable', 'production', 'customerai', 'data', 'products', 'effectively', 'quickly', 'possibleensure', 'data', 'quality', 'implementing', 'usable', 'data', 'quality', 'frameworks', 'the', 'essentialsbachelor', 'degree', 'computer', 'science', 'similar', 'discipline', '5', 'years', 'experience', 'data', 'engineering', 'software', 'engineering', 'machine', 'learning', 'engineering', 'managing', 'resources', 'project', 'delivery', 'expertise', 'building', 'managing', 'large', 'volume', 'data', 'transformation', 'streaming', 'batch', 'platforms', 'proficient', 'sql', 'expertise', 'distributed', 'data', 'processing', 'frameworks', 'apache', 'spark', 'flink', 'similar', 'expertise', 'least', 'programming', 'languages', 'python', 'java', 'scala', 'similar', 'proficiency', 'git', 'similar', 'version', 'control', 'ci', 'cd', 'best', 'practices', 'managing', 'workflows', 'using', 'agile', 'practicesexperience', 'certification', 'databricks', 'data', 'engineering', 'ml', 'productionworking', 'aws', 'cloud', 'platformability', 'write', 'clear', 'concise', 'documentation', 'communicate', 'generally', 'high', 'degree', 'precisioncare', 'quality', 'input', 'data', 'processed', 'data', 'ultimately', 'interpreted', 'usedexperience', 'digital', 'products', 'streaming', 'services', 'subscription', 'products', 'preferredcharacteristics', 'traitsnaturally', 'inquisitive', 'critical', 'thinker', 'proactive', 'problem', 'solver', 'detail', 'oriented', 'comfortable', 'initiating', 'projects', 'design', 'execution', 'minimal', 'supervisionability', 'manage', 'balance', 'multiple', 'sometimes', 'competing', 'priorities', 'fast', 'paced', 'complex', 'business', 'environment', 'manage', 'time', 'effectively', 'consistently', 'meet', 'deadlineswell', 'roundedness', 'analytic', 'methodologies', 'executionhow', 'we', 'get', 'things', 'done', 'this', 'last', 'bit', 'probably', 'important', 'here', 'wbd', 'guiding', 'principles', 'core', 'values', 'operate', 'central', 'get', 'things', 'done', 'you', 'find', 'www', 'wbd', 'com', 'guiding', 'principles', 'along', 'insights', 'team', 'mean', 'show', 'day', 'day', 'we', 'hope', 'resonate', 'look', 'forward', 'discussing', 'interview', 'the', 'legal', 'bits', 'in', 'compliance', 'local', 'law', 'disclosing', 'compensation', 'range', 'thereof', 'roles', 'locations', 'legally', 'required', '98', '007', '00', '182', '013', '00', 'salary', 'per', 'year', 'other', 'rewards', 'may', 'include', 'annual', 'bonuses', 'short', 'long', 'term', 'incentives', 'program', 'specific', 'awards', 'in', 'addition', 'warner', 'bros', 'discovery', 'provides', 'variety', 'benefits', 'employees', 'including', 'health', 'insurance', 'coverage', 'employee', 'wellness', 'program', 'life', 'disability', 'insurance', 'retirement', 'savings', 'plan', 'paid', 'holidays', 'paid', 'time', 'pto', 'warner', 'bros', 'discovery', 'embraces', 'opportunity', 'build', 'workforce', 'reflects', 'diversity', 'society', 'world', 'around', 'us', 'being', 'equal', 'opportunity', 'employer', 'means', 'take', 'seriously', 'responsibility', 'consider', 'qualified', 'candidates', 'basis', 'merit', 'without', 'regard', 'race', 'color', 'religion', 'national', 'origin', 'gender', 'sexual', 'orientation', 'gender', 'identity', 'expression', 'age', 'mental', 'physical', 'disability', 'genetic', 'information', 'marital', 'status', 'citizenship', 'status', 'military', 'status', 'protected', 'veteran', 'status', 'category', 'protected', 'law', 'if', 'qualified', 'candidate', 'disability', 'need', 'reasonable', 'accommodation', 'order', 'apply', 'position', 'please', 'contact', 'us', 'recruitadmin', 'warnermedia', 'com']\n"
     ]
    }
   ],
   "source": [
    "clean_split = re.split(\"\\W+\", example_text)\n",
    "filtered_body = [w.strip().lower() for w in clean_split if w not in stop_words]\n",
    "punc_remove = [b for b in filtered_body if b not in punc]\n",
    "print (punc_remove)"
   ]
  },
  {
   "cell_type": "code",
   "execution_count": 98,
   "metadata": {},
   "outputs": [],
   "source": [
    "def cleaning_body(text):\n",
    "    clean_split = re.split(\"\\W+\", text)\n",
    "    filtered_body = [w.strip().lower() for w in clean_split if w not in stop_words]\n",
    "    punc_remove = \" \".join([b for b in filtered_body if b not in punc])\n",
    "    return punc_remove"
   ]
  },
  {
   "cell_type": "code",
   "execution_count": 85,
   "metadata": {},
   "outputs": [],
   "source": [
    "from sklearn.feature_extraction.text import TfidfVectorizer\n",
    "from sklearn.metrics.pairwise import cosine_similarity"
   ]
  },
  {
   "cell_type": "code",
   "execution_count": 86,
   "metadata": {},
   "outputs": [],
   "source": [
    "job_information.drop(columns='clean_body', inplace=True)"
   ]
  },
  {
   "cell_type": "code",
   "execution_count": 99,
   "metadata": {},
   "outputs": [
    {
     "data": {
      "text/html": [
       "<div>\n",
       "<style scoped>\n",
       "    .dataframe tbody tr th:only-of-type {\n",
       "        vertical-align: middle;\n",
       "    }\n",
       "\n",
       "    .dataframe tbody tr th {\n",
       "        vertical-align: top;\n",
       "    }\n",
       "\n",
       "    .dataframe thead th {\n",
       "        text-align: right;\n",
       "    }\n",
       "</style>\n",
       "<table border=\"1\" class=\"dataframe\">\n",
       "  <thead>\n",
       "    <tr style=\"text-align: right;\">\n",
       "      <th></th>\n",
       "      <th>company_id</th>\n",
       "      <th>job_id</th>\n",
       "      <th>title</th>\n",
       "      <th>job_title</th>\n",
       "      <th>body</th>\n",
       "      <th>clean_desc</th>\n",
       "    </tr>\n",
       "  </thead>\n",
       "  <tbody>\n",
       "    <tr>\n",
       "      <th>0</th>\n",
       "      <td>64944</td>\n",
       "      <td>2675580</td>\n",
       "      <td>Warner Bros. Discovery</td>\n",
       "      <td>Sr. Data Engineer</td>\n",
       "      <td>Every great story has a new beginning, and you...</td>\n",
       "      <td>every great story new beginning starts welcome...</td>\n",
       "    </tr>\n",
       "    <tr>\n",
       "      <th>1</th>\n",
       "      <td>64944</td>\n",
       "      <td>2675581</td>\n",
       "      <td>DISH</td>\n",
       "      <td>Sr. Data Engineer</td>\n",
       "      <td>Every great story has a new beginning, and you...</td>\n",
       "      <td>every great story new beginning starts welcome...</td>\n",
       "    </tr>\n",
       "    <tr>\n",
       "      <th>2</th>\n",
       "      <td>64894</td>\n",
       "      <td>2644318</td>\n",
       "      <td>Chewy</td>\n",
       "      <td>Business Intelligence Engineer</td>\n",
       "      <td>Our Opportunity:Chewy is looking for a Busines...</td>\n",
       "      <td>our opportunity chewy looking business intelli...</td>\n",
       "    </tr>\n",
       "    <tr>\n",
       "      <th>3</th>\n",
       "      <td>64453</td>\n",
       "      <td>2677947</td>\n",
       "      <td>Reddit</td>\n",
       "      <td>Staff Data Scientist, Ads Experimentation Anal...</td>\n",
       "      <td>Reddit is a community of communities where peo...</td>\n",
       "      <td>reddit community communities people dive anyth...</td>\n",
       "    </tr>\n",
       "    <tr>\n",
       "      <th>4</th>\n",
       "      <td>81846</td>\n",
       "      <td>2715266</td>\n",
       "      <td>Capital One</td>\n",
       "      <td>Senior Data Engineer</td>\n",
       "      <td>Locations: VA - McLean, United States of Ameri...</td>\n",
       "      <td>locations va mclean united states america mcle...</td>\n",
       "    </tr>\n",
       "  </tbody>\n",
       "</table>\n",
       "</div>"
      ],
      "text/plain": [
       "   company_id   job_id                   title  \\\n",
       "0       64944  2675580  Warner Bros. Discovery   \n",
       "1       64944  2675581                    DISH   \n",
       "2       64894  2644318                   Chewy   \n",
       "3       64453  2677947                  Reddit   \n",
       "4       81846  2715266             Capital One   \n",
       "\n",
       "                                           job_title  \\\n",
       "0                                  Sr. Data Engineer   \n",
       "1                                  Sr. Data Engineer   \n",
       "2                     Business Intelligence Engineer   \n",
       "3  Staff Data Scientist, Ads Experimentation Anal...   \n",
       "4                               Senior Data Engineer   \n",
       "\n",
       "                                                body  \\\n",
       "0  Every great story has a new beginning, and you...   \n",
       "1  Every great story has a new beginning, and you...   \n",
       "2  Our Opportunity:Chewy is looking for a Busines...   \n",
       "3  Reddit is a community of communities where peo...   \n",
       "4  Locations: VA - McLean, United States of Ameri...   \n",
       "\n",
       "                                          clean_desc  \n",
       "0  every great story new beginning starts welcome...  \n",
       "1  every great story new beginning starts welcome...  \n",
       "2  our opportunity chewy looking business intelli...  \n",
       "3  reddit community communities people dive anyth...  \n",
       "4  locations va mclean united states america mcle...  "
      ]
     },
     "execution_count": 99,
     "metadata": {},
     "output_type": "execute_result"
    }
   ],
   "source": [
    "job_information['clean_desc'] = job_information['body'].apply(lambda x: cleaning_body(x))\n",
    "job_information.head()"
   ]
  },
  {
   "cell_type": "code",
   "execution_count": 101,
   "metadata": {},
   "outputs": [],
   "source": [
    "tfid = TfidfVectorizer()\n",
    "job_matrix = tfid.fit_transform(job_information['clean_desc'])"
   ]
  },
  {
   "cell_type": "code",
   "execution_count": 103,
   "metadata": {},
   "outputs": [
    {
     "data": {
      "text/plain": [
       "array([[1.        , 1.        , 0.2054164 , ..., 0.10124137, 0.08891297,\n",
       "        0.07791656],\n",
       "       [1.        , 1.        , 0.2054164 , ..., 0.10124137, 0.08891297,\n",
       "        0.07791656],\n",
       "       [0.2054164 , 0.2054164 , 1.        , ..., 0.10253003, 0.10664948,\n",
       "        0.10266643],\n",
       "       ...,\n",
       "       [0.10124137, 0.10124137, 0.10253003, ..., 1.        , 0.04541985,\n",
       "        0.04638672],\n",
       "       [0.08891297, 0.08891297, 0.10664948, ..., 0.04541985, 1.        ,\n",
       "        0.08411742],\n",
       "       [0.07791656, 0.07791656, 0.10266643, ..., 0.04638672, 0.08411742,\n",
       "        1.        ]])"
      ]
     },
     "execution_count": 103,
     "metadata": {},
     "output_type": "execute_result"
    }
   ],
   "source": [
    "cosine = cosine_similarity(job_matrix)\n",
    "cosine"
   ]
  },
  {
   "cell_type": "code",
   "execution_count": 118,
   "metadata": {},
   "outputs": [],
   "source": [
    "jobs = {}\n",
    "\n",
    "for i in range(len(cosine)):\n",
    "    indexes = cosine[i].argsort()[:-10:-1]\n",
    "\n",
    "    jobs[job_information['title'].iloc[i]] = [(job_information['title'].iloc[x], \\\n",
    "                                                job_information['job_title'].iloc[x], cosine[i][x]) for x in indexes]"
   ]
  },
  {
   "cell_type": "code",
   "execution_count": 122,
   "metadata": {},
   "outputs": [
    {
     "data": {
      "text/plain": [
       "[('Reddit', 'Staff Data Scientist, Safety Insights', 0.9999999999999999),\n",
       " ('Reddit', 'Senior Data Scientist, Growth Marketing', 0.584708969927497),\n",
       " ('Reddit', 'Staff Data Scientist, Ads Measurement ML', 0.575196892685113),\n",
       " ('Reddit', 'Staff Data Scientist, Ads Measurement ML', 0.575196892685113),\n",
       " ('Reddit', 'Senior Analytics Engineer, Growth Marketing', 0.5641619539508539),\n",
       " ('Reddit', 'Senior Analytics Engineer, Growth Marketing', 0.5641619539508539),\n",
       " ('Reddit',\n",
       "  'Senior Software Engineer, Machine Learning Platform',\n",
       "  0.5514529295202869),\n",
       " ('Reddit',\n",
       "  'Software Engineer, Machine Learning Platform',\n",
       "  0.5102894792970658),\n",
       " ('Reddit',\n",
       "  'Staff Data Scientist, Ads Experimentation Analytics',\n",
       "  0.4970674758168465)]"
      ]
     },
     "execution_count": 122,
     "metadata": {},
     "output_type": "execute_result"
    }
   ],
   "source": [
    "jobs['Reddit']"
   ]
  },
  {
   "cell_type": "markdown",
   "metadata": {},
   "source": [
    "### Stemming"
   ]
  },
  {
   "cell_type": "code",
   "execution_count": 87,
   "metadata": {},
   "outputs": [],
   "source": [
    "from nltk.stem import PorterStemmer\n",
    "from nltk.stem import SnowballStemmer\n",
    "from nltk.stem import LancasterStemmer\n",
    "import string"
   ]
  },
  {
   "cell_type": "code",
   "execution_count": 88,
   "metadata": {},
   "outputs": [],
   "source": [
    "job_information2 = jobs_df[['company_id','job_id', 'title', 'body']]"
   ]
  },
  {
   "cell_type": "code",
   "execution_count": 89,
   "metadata": {},
   "outputs": [],
   "source": [
    "def cleaning_body(text):\n",
    "    clean_split = re.split(\"\\W+\", text)\n",
    "    filtered_body = [w.strip().lower() for w in clean_split if w not in stop_words]\n",
    "    punc_remove = [b for b in filtered_body if b not in punc]\n",
    "    return punc_remove"
   ]
  },
  {
   "cell_type": "code",
   "execution_count": 90,
   "metadata": {},
   "outputs": [],
   "source": [
    "job_information2['clean_body_updated'] = job_information2['body'].apply(cleaning_body)"
   ]
  },
  {
   "cell_type": "code",
   "execution_count": 91,
   "metadata": {},
   "outputs": [],
   "source": [
    "ps = PorterStemmer()\n",
    "ss = SnowballStemmer(\"english\")\n",
    "ls = LancasterStemmer()\n",
    "\n",
    "def porter_stemmer(text):\n",
    "    text = [ps.stem(t) for t in text]\n",
    "    return text\n",
    "\n",
    "def snowball_stemer(text):\n",
    "    text = [ss.stem(t) for t in text]\n",
    "    return text\n",
    "\n",
    "def lancaster_stemmer(text):\n",
    "    text = [ls.stem(t) for t in text]\n",
    "    return text"
   ]
  },
  {
   "cell_type": "code",
   "execution_count": 92,
   "metadata": {},
   "outputs": [
    {
     "name": "stdout",
     "output_type": "stream",
     "text": [
      "['everi', 'great', 'stori', 'new', 'begin', 'start', 'welcom', 'warner', 'bro', 'discoveri', 'stuff', 'dream', 'made', 'who', 'we', 'are', 'when', 'say', 'stuff', 'dream', 'made', 'refer', 'world', 'wizard', 'dragon', 'superhero', 'even', 'wonder', 'planet', 'earth', 'behind', 'wbd', 'vast', 'portfolio', 'icon', 'content', 'belov', 'brand', 'storytel', 'bring', 'charact', 'life', 'creator', 'bring', 'live', 'room', 'dreamer', 'creat', 'next', 'from', 'brilliant', 'creativ', 'technolog', 'trailblaz', 'across', 'globe', 'wbd', 'offer', 'career', 'defin', 'opportun', 'thought', 'curat', 'benefit', 'tool', 'explor', 'grow', 'best', 'selv', 'here', 'support', 'celebr', 'thrive', 'everi', 'great', 'stori', 'new', 'begin', 'we', 'excit', 'announc', 'discoveri', 'warnermedia', 'combin', 'becom', 'warner', 'bro', 'discoveri', 'wbd', 'premier', 'global', 'media', 'entertain', 'compani', 'offer', 'audienc', 'world', 'differenti', 'complet', 'portfolio', 'content', 'brand', 'franchis', 'across', 'televis', 'film', 'sport', 'news', 'stream', 'game', 'we', 'home', 'world', 'best', 'storytel', 'creat', 'world', 'class', 'product', 'consum', 'from', 'brilliant', 'creativ', 'technolog', 'trailblaz', 'beyond', 'join', 'us', 'step', 'next', 'chapter', 'the', 'joba', 'sr', 'data', 'engineerin', 'custom', 'team', 'lead', 'design', 'develop', 'deploy', 'manag', 'custom', 'ai', 'data', 'product', 'support', 'data', 'scienc', 'analyt', 'initi', 'd', 'ai', 'wbd', 'stream', 'regul', 'standard', 'custom', 'data', 'integr', 'transform', 'public', 'drive', 'deliveri', 'govern', 'test', 'document', 'code', 'review', 'abstract', 'output', 'ai', 'platform', 'microservic', 'data', 'scientist', 'mlp', 'visual', 'self', 'servic', 'platform', 'in', 'role', 'interact', 'differ', 'function', 'area', 'understand', 'analyt', 'product', 'data', 'requir', 'custom', 'collabor', 'data', 'engin', 'data', 'scientist', 'analyst', 'research', 'ensur', 'proper', 'end', 'end', 'execut', 'go', 'success', 'team', 'thi', 'role', 'bring', 'expertis', 'wide', 'varieti', 'big', 'data', 'process', 'framework', 'larg', 'scale', 'databas', 'system', 'stream', 'data', 'process', 'api', 'develop', 'data', 'model', 'skill', 'manag', 'resourc', 'drive', 'deliveri', 'custom', 'data', 'product', 'also', 'the', 'dailyenh', 'innov', 'stream', 'customer360', 'data', 'product', 'next', 'level', 'pipelin', 'design', 'process', 'public', 'serv', 'varieti', 'stakehold', 'collabor', 'data', 'scientist', 'data', 'engin', 'd', 'ai', 'defin', 'technic', 'requir', 'data', 'translat', 'analyt', 'ml', 'featur', 'engin', 'initi', 'work', 'solut', 'analyst', 'understand', 'busi', 'problem', 'develop', 'best', 'suit', 'robust', 'reusabl', 'data', 'scienc', 'output', 'custom', 'analyticsevalu', 'facilit', 'integr', 'addit', 'sourc', 'data', '3rd', 'parti', '2nd', 'parti', 'data', 'enhanc', 'analyt', 'capabl', 'continu', 'expand', 'breadth', 'depth', 'user', 'base', 'insight', 'data', 'attribut', 'work', 'close', 'data', 'product', 'manag', 'data', 'scienc', 'data', 'engin', 'design', 'build', 'fast', 'reliabl', 'servicescr', 'librari', 'enabl', 'product', 'customerai', 'data', 'product', 'effect', 'quickli', 'possibleensur', 'data', 'qualiti', 'implement', 'usabl', 'data', 'qualiti', 'framework', 'the', 'essentialsbachelor', 'degre', 'comput', 'scienc', 'similar', 'disciplin', '5', 'year', 'experi', 'data', 'engin', 'softwar', 'engin', 'machin', 'learn', 'engin', 'manag', 'resourc', 'project', 'deliveri', 'expertis', 'build', 'manag', 'larg', 'volum', 'data', 'transform', 'stream', 'batch', 'platform', 'profici', 'sql', 'expertis', 'distribut', 'data', 'process', 'framework', 'apach', 'spark', 'flink', 'similar', 'expertis', 'least', 'program', 'languag', 'python', 'java', 'scala', 'similar', 'profici', 'git', 'similar', 'version', 'control', 'ci', 'cd', 'best', 'practic', 'manag', 'workflow', 'use', 'agil', 'practicesexperi', 'certif', 'databrick', 'data', 'engin', 'ml', 'productionwork', 'aw', 'cloud', 'platform', 'write', 'clear', 'concis', 'document', 'commun', 'gener', 'high', 'degre', 'precisioncar', 'qualiti', 'input', 'data', 'process', 'data', 'ultim', 'interpret', 'usedexperi', 'digit', 'product', 'stream', 'servic', 'subscript', 'product', 'preferredcharacterist', 'traitsnatur', 'inquisit', 'critic', 'thinker', 'proactiv', 'problem', 'solver', 'detail', 'orient', 'comfort', 'initi', 'project', 'design', 'execut', 'minim', 'supervision', 'manag', 'balanc', 'multipl', 'sometim', 'compet', 'prioriti', 'fast', 'pace', 'complex', 'busi', 'environ', 'manag', 'time', 'effect', 'consist', 'meet', 'deadlineswel', 'rounded', 'analyt', 'methodolog', 'executionhow', 'we', 'get', 'thing', 'done', 'thi', 'last', 'bit', 'probabl', 'import', 'here', 'wbd', 'guid', 'principl', 'core', 'valu', 'oper', 'central', 'get', 'thing', 'done', 'you', 'find', 'www', 'wbd', 'com', 'guid', 'principl', 'along', 'insight', 'team', 'mean', 'show', 'day', 'day', 'we', 'hope', 'reson', 'look', 'forward', 'discuss', 'interview', 'the', 'legal', 'bit', 'in', 'complianc', 'local', 'law', 'disclos', 'compens', 'rang', 'thereof', 'role', 'locat', 'legal', 'requir', '98', '007', '00', '182', '013', '00', 'salari', 'per', 'year', 'other', 'reward', 'may', 'includ', 'annual', 'bonus', 'short', 'long', 'term', 'incent', 'program', 'specif', 'award', 'in', 'addit', 'warner', 'bro', 'discoveri', 'provid', 'varieti', 'benefit', 'employe', 'includ', 'health', 'insur', 'coverag', 'employe', 'well', 'program', 'life', 'disabl', 'insur', 'retir', 'save', 'plan', 'paid', 'holiday', 'paid', 'time', 'pto', 'warner', 'bro', 'discoveri', 'embrac', 'opportun', 'build', 'workforc', 'reflect', 'divers', 'societi', 'world', 'around', 'us', 'be', 'equal', 'opportun', 'employ', 'mean', 'take', 'serious', 'respons', 'consid', 'qualifi', 'candid', 'basi', 'merit', 'without', 'regard', 'race', 'color', 'religion', 'nation', 'origin', 'gender', 'sexual', 'orient', 'gender', 'ident', 'express', 'age', 'mental', 'physic', 'disabl', 'genet', 'inform', 'marit', 'statu', 'citizenship', 'statu', 'militari', 'statu', 'protect', 'veteran', 'statu', 'categori', 'protect', 'law', 'if', 'qualifi', 'candid', 'disabl', 'need', 'reason', 'accommod', 'order', 'appli', 'posit', 'pleas', 'contact', 'us', 'recruitadmin', 'warnermedia', 'com']\n"
     ]
    }
   ],
   "source": [
    "stem_body = [ps.stem(w) for w in punc_remove]\n",
    "print (stem_body)"
   ]
  },
  {
   "cell_type": "code",
   "execution_count": 93,
   "metadata": {},
   "outputs": [
    {
     "ename": "KeyboardInterrupt",
     "evalue": "",
     "output_type": "error",
     "traceback": [
      "\u001b[1;31m---------------------------------------------------------------------------\u001b[0m",
      "\u001b[1;31mKeyboardInterrupt\u001b[0m                         Traceback (most recent call last)",
      "Cell \u001b[1;32mIn[93], line 1\u001b[0m\n\u001b[1;32m----> 1\u001b[0m job_information2[\u001b[39m\"\u001b[39m\u001b[39mPorterStemmer\u001b[39m\u001b[39m\"\u001b[39m] \u001b[39m=\u001b[39m job_information2[\u001b[39m'\u001b[39;49m\u001b[39mclean_body_updated\u001b[39;49m\u001b[39m'\u001b[39;49m]\u001b[39m.\u001b[39;49mapply(\u001b[39mlambda\u001b[39;49;00m x: porter_stemmer(x))\n\u001b[0;32m      2\u001b[0m job_information2[\u001b[39m\"\u001b[39m\u001b[39mSnowballStemmer\u001b[39m\u001b[39m\"\u001b[39m] \u001b[39m=\u001b[39m job_information2[\u001b[39m'\u001b[39m\u001b[39mclean_body_updated\u001b[39m\u001b[39m'\u001b[39m]\u001b[39m.\u001b[39mapply(\u001b[39mlambda\u001b[39;00m x: snowball_stemer(x))\n\u001b[0;32m      3\u001b[0m job_information2[\u001b[39m\"\u001b[39m\u001b[39mLancasterStemmer\u001b[39m\u001b[39m\"\u001b[39m] \u001b[39m=\u001b[39m job_information2[\u001b[39m'\u001b[39m\u001b[39mclean_body_updated\u001b[39m\u001b[39m'\u001b[39m]\u001b[39m.\u001b[39mapply(\u001b[39mlambda\u001b[39;00m x: lancaster_stemmer(x))\n",
      "File \u001b[1;32mc:\\Users\\kazir\\AppData\\Local\\Programs\\Python\\Python310\\lib\\site-packages\\pandas\\core\\series.py:4771\u001b[0m, in \u001b[0;36mSeries.apply\u001b[1;34m(self, func, convert_dtype, args, **kwargs)\u001b[0m\n\u001b[0;32m   4661\u001b[0m \u001b[39mdef\u001b[39;00m \u001b[39mapply\u001b[39m(\n\u001b[0;32m   4662\u001b[0m     \u001b[39mself\u001b[39m,\n\u001b[0;32m   4663\u001b[0m     func: AggFuncType,\n\u001b[1;32m   (...)\u001b[0m\n\u001b[0;32m   4666\u001b[0m     \u001b[39m*\u001b[39m\u001b[39m*\u001b[39mkwargs,\n\u001b[0;32m   4667\u001b[0m ) \u001b[39m-\u001b[39m\u001b[39m>\u001b[39m DataFrame \u001b[39m|\u001b[39m Series:\n\u001b[0;32m   4668\u001b[0m \u001b[39m    \u001b[39m\u001b[39m\"\"\"\u001b[39;00m\n\u001b[0;32m   4669\u001b[0m \u001b[39m    Invoke function on values of Series.\u001b[39;00m\n\u001b[0;32m   4670\u001b[0m \n\u001b[1;32m   (...)\u001b[0m\n\u001b[0;32m   4769\u001b[0m \u001b[39m    dtype: float64\u001b[39;00m\n\u001b[0;32m   4770\u001b[0m \u001b[39m    \"\"\"\u001b[39;00m\n\u001b[1;32m-> 4771\u001b[0m     \u001b[39mreturn\u001b[39;00m SeriesApply(\u001b[39mself\u001b[39;49m, func, convert_dtype, args, kwargs)\u001b[39m.\u001b[39;49mapply()\n",
      "File \u001b[1;32mc:\\Users\\kazir\\AppData\\Local\\Programs\\Python\\Python310\\lib\\site-packages\\pandas\\core\\apply.py:1123\u001b[0m, in \u001b[0;36mSeriesApply.apply\u001b[1;34m(self)\u001b[0m\n\u001b[0;32m   1120\u001b[0m     \u001b[39mreturn\u001b[39;00m \u001b[39mself\u001b[39m\u001b[39m.\u001b[39mapply_str()\n\u001b[0;32m   1122\u001b[0m \u001b[39m# self.f is Callable\u001b[39;00m\n\u001b[1;32m-> 1123\u001b[0m \u001b[39mreturn\u001b[39;00m \u001b[39mself\u001b[39;49m\u001b[39m.\u001b[39;49mapply_standard()\n",
      "File \u001b[1;32mc:\\Users\\kazir\\AppData\\Local\\Programs\\Python\\Python310\\lib\\site-packages\\pandas\\core\\apply.py:1174\u001b[0m, in \u001b[0;36mSeriesApply.apply_standard\u001b[1;34m(self)\u001b[0m\n\u001b[0;32m   1172\u001b[0m     \u001b[39melse\u001b[39;00m:\n\u001b[0;32m   1173\u001b[0m         values \u001b[39m=\u001b[39m obj\u001b[39m.\u001b[39mastype(\u001b[39mobject\u001b[39m)\u001b[39m.\u001b[39m_values\n\u001b[1;32m-> 1174\u001b[0m         mapped \u001b[39m=\u001b[39m lib\u001b[39m.\u001b[39;49mmap_infer(\n\u001b[0;32m   1175\u001b[0m             values,\n\u001b[0;32m   1176\u001b[0m             f,\n\u001b[0;32m   1177\u001b[0m             convert\u001b[39m=\u001b[39;49m\u001b[39mself\u001b[39;49m\u001b[39m.\u001b[39;49mconvert_dtype,\n\u001b[0;32m   1178\u001b[0m         )\n\u001b[0;32m   1180\u001b[0m \u001b[39mif\u001b[39;00m \u001b[39mlen\u001b[39m(mapped) \u001b[39mand\u001b[39;00m \u001b[39misinstance\u001b[39m(mapped[\u001b[39m0\u001b[39m], ABCSeries):\n\u001b[0;32m   1181\u001b[0m     \u001b[39m# GH#43986 Need to do list(mapped) in order to get treated as nested\u001b[39;00m\n\u001b[0;32m   1182\u001b[0m     \u001b[39m#  See also GH#25959 regarding EA support\u001b[39;00m\n\u001b[0;32m   1183\u001b[0m     \u001b[39mreturn\u001b[39;00m obj\u001b[39m.\u001b[39m_constructor_expanddim(\u001b[39mlist\u001b[39m(mapped), index\u001b[39m=\u001b[39mobj\u001b[39m.\u001b[39mindex)\n",
      "File \u001b[1;32mc:\\Users\\kazir\\AppData\\Local\\Programs\\Python\\Python310\\lib\\site-packages\\pandas\\_libs\\lib.pyx:2924\u001b[0m, in \u001b[0;36mpandas._libs.lib.map_infer\u001b[1;34m()\u001b[0m\n",
      "Cell \u001b[1;32mIn[93], line 1\u001b[0m, in \u001b[0;36m<lambda>\u001b[1;34m(x)\u001b[0m\n\u001b[1;32m----> 1\u001b[0m job_information2[\u001b[39m\"\u001b[39m\u001b[39mPorterStemmer\u001b[39m\u001b[39m\"\u001b[39m] \u001b[39m=\u001b[39m job_information2[\u001b[39m'\u001b[39m\u001b[39mclean_body_updated\u001b[39m\u001b[39m'\u001b[39m]\u001b[39m.\u001b[39mapply(\u001b[39mlambda\u001b[39;00m x: porter_stemmer(x))\n\u001b[0;32m      2\u001b[0m job_information2[\u001b[39m\"\u001b[39m\u001b[39mSnowballStemmer\u001b[39m\u001b[39m\"\u001b[39m] \u001b[39m=\u001b[39m job_information2[\u001b[39m'\u001b[39m\u001b[39mclean_body_updated\u001b[39m\u001b[39m'\u001b[39m]\u001b[39m.\u001b[39mapply(\u001b[39mlambda\u001b[39;00m x: snowball_stemer(x))\n\u001b[0;32m      3\u001b[0m job_information2[\u001b[39m\"\u001b[39m\u001b[39mLancasterStemmer\u001b[39m\u001b[39m\"\u001b[39m] \u001b[39m=\u001b[39m job_information2[\u001b[39m'\u001b[39m\u001b[39mclean_body_updated\u001b[39m\u001b[39m'\u001b[39m]\u001b[39m.\u001b[39mapply(\u001b[39mlambda\u001b[39;00m x: lancaster_stemmer(x))\n",
      "Cell \u001b[1;32mIn[91], line 6\u001b[0m, in \u001b[0;36mporter_stemmer\u001b[1;34m(text)\u001b[0m\n\u001b[0;32m      5\u001b[0m \u001b[39mdef\u001b[39;00m \u001b[39mporter_stemmer\u001b[39m(text):\n\u001b[1;32m----> 6\u001b[0m     text \u001b[39m=\u001b[39m [ps\u001b[39m.\u001b[39mstem(t) \u001b[39mfor\u001b[39;00m t \u001b[39min\u001b[39;00m text]\n\u001b[0;32m      7\u001b[0m     \u001b[39mreturn\u001b[39;00m text\n",
      "Cell \u001b[1;32mIn[91], line 6\u001b[0m, in \u001b[0;36m<listcomp>\u001b[1;34m(.0)\u001b[0m\n\u001b[0;32m      5\u001b[0m \u001b[39mdef\u001b[39;00m \u001b[39mporter_stemmer\u001b[39m(text):\n\u001b[1;32m----> 6\u001b[0m     text \u001b[39m=\u001b[39m [ps\u001b[39m.\u001b[39;49mstem(t) \u001b[39mfor\u001b[39;00m t \u001b[39min\u001b[39;00m text]\n\u001b[0;32m      7\u001b[0m     \u001b[39mreturn\u001b[39;00m text\n",
      "File \u001b[1;32mc:\\Users\\kazir\\AppData\\Local\\Programs\\Python\\Python310\\lib\\site-packages\\nltk\\stem\\porter.py:674\u001b[0m, in \u001b[0;36mPorterStemmer.stem\u001b[1;34m(self, word, to_lowercase)\u001b[0m\n\u001b[0;32m    672\u001b[0m stem \u001b[39m=\u001b[39m \u001b[39mself\u001b[39m\u001b[39m.\u001b[39m_step2(stem)\n\u001b[0;32m    673\u001b[0m stem \u001b[39m=\u001b[39m \u001b[39mself\u001b[39m\u001b[39m.\u001b[39m_step3(stem)\n\u001b[1;32m--> 674\u001b[0m stem \u001b[39m=\u001b[39m \u001b[39mself\u001b[39;49m\u001b[39m.\u001b[39;49m_step4(stem)\n\u001b[0;32m    675\u001b[0m stem \u001b[39m=\u001b[39m \u001b[39mself\u001b[39m\u001b[39m.\u001b[39m_step5a(stem)\n\u001b[0;32m    676\u001b[0m stem \u001b[39m=\u001b[39m \u001b[39mself\u001b[39m\u001b[39m.\u001b[39m_step5b(stem)\n",
      "File \u001b[1;32mc:\\Users\\kazir\\AppData\\Local\\Programs\\Python\\Python310\\lib\\site-packages\\nltk\\stem\\porter.py:573\u001b[0m, in \u001b[0;36mPorterStemmer._step4\u001b[1;34m(self, word)\u001b[0m\n\u001b[0;32m    544\u001b[0m \u001b[39m\u001b[39m\u001b[39m\"\"\"Implements Step 4 from \"An algorithm for suffix stripping\"\u001b[39;00m\n\u001b[0;32m    545\u001b[0m \n\u001b[0;32m    546\u001b[0m \u001b[39mStep 4\u001b[39;00m\n\u001b[1;32m   (...)\u001b[0m\n\u001b[0;32m    569\u001b[0m \u001b[39mtidying up.\u001b[39;00m\n\u001b[0;32m    570\u001b[0m \u001b[39m\"\"\"\u001b[39;00m\n\u001b[0;32m    571\u001b[0m measure_gt_1 \u001b[39m=\u001b[39m \u001b[39mlambda\u001b[39;00m stem: \u001b[39mself\u001b[39m\u001b[39m.\u001b[39m_measure(stem) \u001b[39m>\u001b[39m \u001b[39m1\u001b[39m\n\u001b[1;32m--> 573\u001b[0m \u001b[39mreturn\u001b[39;00m \u001b[39mself\u001b[39;49m\u001b[39m.\u001b[39;49m_apply_rule_list(\n\u001b[0;32m    574\u001b[0m     word,\n\u001b[0;32m    575\u001b[0m     [\n\u001b[0;32m    576\u001b[0m         (\u001b[39m\"\u001b[39;49m\u001b[39mal\u001b[39;49m\u001b[39m\"\u001b[39;49m, \u001b[39m\"\u001b[39;49m\u001b[39m\"\u001b[39;49m, measure_gt_1),\n\u001b[0;32m    577\u001b[0m         (\u001b[39m\"\u001b[39;49m\u001b[39mance\u001b[39;49m\u001b[39m\"\u001b[39;49m, \u001b[39m\"\u001b[39;49m\u001b[39m\"\u001b[39;49m, measure_gt_1),\n\u001b[0;32m    578\u001b[0m         (\u001b[39m\"\u001b[39;49m\u001b[39mence\u001b[39;49m\u001b[39m\"\u001b[39;49m, \u001b[39m\"\u001b[39;49m\u001b[39m\"\u001b[39;49m, measure_gt_1),\n\u001b[0;32m    579\u001b[0m         (\u001b[39m\"\u001b[39;49m\u001b[39mer\u001b[39;49m\u001b[39m\"\u001b[39;49m, \u001b[39m\"\u001b[39;49m\u001b[39m\"\u001b[39;49m, measure_gt_1),\n\u001b[0;32m    580\u001b[0m         (\u001b[39m\"\u001b[39;49m\u001b[39mic\u001b[39;49m\u001b[39m\"\u001b[39;49m, \u001b[39m\"\u001b[39;49m\u001b[39m\"\u001b[39;49m, measure_gt_1),\n\u001b[0;32m    581\u001b[0m         (\u001b[39m\"\u001b[39;49m\u001b[39mable\u001b[39;49m\u001b[39m\"\u001b[39;49m, \u001b[39m\"\u001b[39;49m\u001b[39m\"\u001b[39;49m, measure_gt_1),\n\u001b[0;32m    582\u001b[0m         (\u001b[39m\"\u001b[39;49m\u001b[39mible\u001b[39;49m\u001b[39m\"\u001b[39;49m, \u001b[39m\"\u001b[39;49m\u001b[39m\"\u001b[39;49m, measure_gt_1),\n\u001b[0;32m    583\u001b[0m         (\u001b[39m\"\u001b[39;49m\u001b[39mant\u001b[39;49m\u001b[39m\"\u001b[39;49m, \u001b[39m\"\u001b[39;49m\u001b[39m\"\u001b[39;49m, measure_gt_1),\n\u001b[0;32m    584\u001b[0m         (\u001b[39m\"\u001b[39;49m\u001b[39mement\u001b[39;49m\u001b[39m\"\u001b[39;49m, \u001b[39m\"\u001b[39;49m\u001b[39m\"\u001b[39;49m, measure_gt_1),\n\u001b[0;32m    585\u001b[0m         (\u001b[39m\"\u001b[39;49m\u001b[39mment\u001b[39;49m\u001b[39m\"\u001b[39;49m, \u001b[39m\"\u001b[39;49m\u001b[39m\"\u001b[39;49m, measure_gt_1),\n\u001b[0;32m    586\u001b[0m         (\u001b[39m\"\u001b[39;49m\u001b[39ment\u001b[39;49m\u001b[39m\"\u001b[39;49m, \u001b[39m\"\u001b[39;49m\u001b[39m\"\u001b[39;49m, measure_gt_1),\n\u001b[0;32m    587\u001b[0m         \u001b[39m# (m>1 and (*S or *T)) ION ->\u001b[39;49;00m\n\u001b[0;32m    588\u001b[0m         (\n\u001b[0;32m    589\u001b[0m             \u001b[39m\"\u001b[39;49m\u001b[39mion\u001b[39;49m\u001b[39m\"\u001b[39;49m,\n\u001b[0;32m    590\u001b[0m             \u001b[39m\"\u001b[39;49m\u001b[39m\"\u001b[39;49m,\n\u001b[0;32m    591\u001b[0m             \u001b[39mlambda\u001b[39;49;00m stem: \u001b[39mself\u001b[39;49m\u001b[39m.\u001b[39;49m_measure(stem) \u001b[39m>\u001b[39;49m \u001b[39m1\u001b[39;49m \u001b[39mand\u001b[39;49;00m stem[\u001b[39m-\u001b[39;49m\u001b[39m1\u001b[39;49m] \u001b[39min\u001b[39;49;00m (\u001b[39m\"\u001b[39;49m\u001b[39ms\u001b[39;49m\u001b[39m\"\u001b[39;49m, \u001b[39m\"\u001b[39;49m\u001b[39mt\u001b[39;49m\u001b[39m\"\u001b[39;49m),\n\u001b[0;32m    592\u001b[0m         ),\n\u001b[0;32m    593\u001b[0m         (\u001b[39m\"\u001b[39;49m\u001b[39mou\u001b[39;49m\u001b[39m\"\u001b[39;49m, \u001b[39m\"\u001b[39;49m\u001b[39m\"\u001b[39;49m, measure_gt_1),\n\u001b[0;32m    594\u001b[0m         (\u001b[39m\"\u001b[39;49m\u001b[39mism\u001b[39;49m\u001b[39m\"\u001b[39;49m, \u001b[39m\"\u001b[39;49m\u001b[39m\"\u001b[39;49m, measure_gt_1),\n\u001b[0;32m    595\u001b[0m         (\u001b[39m\"\u001b[39;49m\u001b[39mate\u001b[39;49m\u001b[39m\"\u001b[39;49m, \u001b[39m\"\u001b[39;49m\u001b[39m\"\u001b[39;49m, measure_gt_1),\n\u001b[0;32m    596\u001b[0m         (\u001b[39m\"\u001b[39;49m\u001b[39miti\u001b[39;49m\u001b[39m\"\u001b[39;49m, \u001b[39m\"\u001b[39;49m\u001b[39m\"\u001b[39;49m, measure_gt_1),\n\u001b[0;32m    597\u001b[0m         (\u001b[39m\"\u001b[39;49m\u001b[39mous\u001b[39;49m\u001b[39m\"\u001b[39;49m, \u001b[39m\"\u001b[39;49m\u001b[39m\"\u001b[39;49m, measure_gt_1),\n\u001b[0;32m    598\u001b[0m         (\u001b[39m\"\u001b[39;49m\u001b[39mive\u001b[39;49m\u001b[39m\"\u001b[39;49m, \u001b[39m\"\u001b[39;49m\u001b[39m\"\u001b[39;49m, measure_gt_1),\n\u001b[0;32m    599\u001b[0m         (\u001b[39m\"\u001b[39;49m\u001b[39mize\u001b[39;49m\u001b[39m\"\u001b[39;49m, \u001b[39m\"\u001b[39;49m\u001b[39m\"\u001b[39;49m, measure_gt_1),\n\u001b[0;32m    600\u001b[0m     ],\n\u001b[0;32m    601\u001b[0m )\n",
      "File \u001b[1;32mc:\\Users\\kazir\\AppData\\Local\\Programs\\Python\\Python310\\lib\\site-packages\\nltk\\stem\\porter.py:248\u001b[0m, in \u001b[0;36mPorterStemmer._apply_rule_list\u001b[1;34m(self, word, rules)\u001b[0m\n\u001b[0;32m    245\u001b[0m     \u001b[39melse\u001b[39;00m:\n\u001b[0;32m    246\u001b[0m         \u001b[39mreturn\u001b[39;00m word[: \u001b[39m-\u001b[39m\u001b[39mlen\u001b[39m(suffix)] \u001b[39m+\u001b[39m replacement\n\u001b[1;32m--> 248\u001b[0m \u001b[39mdef\u001b[39;00m \u001b[39m_apply_rule_list\u001b[39m(\u001b[39mself\u001b[39m, word, rules):\n\u001b[0;32m    249\u001b[0m \u001b[39m    \u001b[39m\u001b[39m\"\"\"Applies the first applicable suffix-removal rule to the word\u001b[39;00m\n\u001b[0;32m    250\u001b[0m \n\u001b[0;32m    251\u001b[0m \u001b[39m    Takes a word and a list of suffix-removal rules represented as\u001b[39;00m\n\u001b[1;32m   (...)\u001b[0m\n\u001b[0;32m    255\u001b[0m \u001b[39m    or None if the rule is unconditional.\u001b[39;00m\n\u001b[0;32m    256\u001b[0m \u001b[39m    \"\"\"\u001b[39;00m\n\u001b[0;32m    257\u001b[0m     \u001b[39mfor\u001b[39;00m rule \u001b[39min\u001b[39;00m rules:\n",
      "\u001b[1;31mKeyboardInterrupt\u001b[0m: "
     ]
    }
   ],
   "source": [
    "job_information2[\"PorterStemmer\"] = job_information2['clean_body_updated'].apply(lambda x: porter_stemmer(x))\n",
    "job_information2[\"SnowballStemmer\"] = job_information2['clean_body_updated'].apply(lambda x: snowball_stemer(x))\n",
    "job_information2[\"LancasterStemmer\"] = job_information2['clean_body_updated'].apply(lambda x: lancaster_stemmer(x))"
   ]
  }
 ],
 "metadata": {
  "kernelspec": {
   "display_name": "Python 3 (ipykernel)",
   "language": "python",
   "name": "python3"
  },
  "language_info": {
   "codemirror_mode": {
    "name": "ipython",
    "version": 3
   },
   "file_extension": ".py",
   "mimetype": "text/x-python",
   "name": "python",
   "nbconvert_exporter": "python",
   "pygments_lexer": "ipython3",
   "version": "3.10.8"
  }
 },
 "nbformat": 4,
 "nbformat_minor": 2
}
